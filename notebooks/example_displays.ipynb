{
 "cells": [
  {
   "cell_type": "markdown",
   "metadata": {},
   "source": [
    "# Displays\n",
    "\n",
    "In order to vizualiase KPIs in a pixel style manner, differnt display types are provided by the `pixel_kpi` package. The package provides the following display types at the moment:\n",
    "- `TerminalDisplay`: A display that can be used in a terminal\n",
    "- `MatplotlibDisplay`: A display that can be used in a Jupyter notebook\n",
    "- `PixooDisplay`: A display that can be used with a Pixoo device"
   ]
  },
  {
   "cell_type": "markdown",
   "metadata": {},
   "source": [
    "## TerminalDisplay"
   ]
  },
  {
   "cell_type": "code",
   "execution_count": 1,
   "metadata": {},
   "outputs": [
    {
     "name": "stdout",
     "output_type": "stream",
     "text": [
      "################################################################\n",
      "################################################################\n",
      "################################################################\n",
      "################################################################\n",
      "################################################################\n",
      "################################################################\n",
      "################################################################\n",
      "################################################################\n",
      "###############*+=+===+****##########*****===++=*###############\n",
      "############*+===+*++++++++++++++++++++++++++**===+*############\n",
      "##########*+===+======+==**************+=+======--==+*##########\n",
      "#########*===++-++-==--+==***********+==+==+==**--=-==+#########\n",
      "########*=======**===---++=:==+*++--:-++=====----=+=-==*########\n",
      "########*=+--===**==----+=.  .........-+=--++----++-:==+%#######\n",
      "######*=:-+=-=-:++:-=--++-.....-=:....-++-----+*=----+=.-*######\n",
      "#####+++=====--------=++===-..:==:..-===++=---==---=+-..+++#####\n",
      "####=**++++:-=-:::...==-=+=--. :: .-==+=-==...:::-=-:.:=+**=####\n",
      "###-+*+++++: ..:-:::...:-=-::  ::  :--+-....:::::::.:=++++**=###\n",
      "#%+.=--=*=....::.:*##+-:...:---::---:...:-+##*-.::..+++++++#==%#\n",
      "##:... :+...:..:=#######*+*##########*+*#######+:..:*-::--:-*:##\n",
      "##. .........:=##################################+::.== .. :: *#\n",
      "##+:......:=*######################################*=:......:+##\n",
      "####*++++*############################################*++++*####\n",
      "##########################************##########################\n",
      "###############*******+++++++++++++++++++++*******##############\n",
      "############*++++++++++++++++++++++++++++++++++++++*############\n",
      "#############****++++++++++++++++++++++++++++++****#############\n",
      "###################**************************###################\n",
      "################################################################\n",
      "################################################################\n",
      "################################################################\n",
      "################################################################\n"
     ]
    }
   ],
   "source": [
    "from pixel_kpi.displays.terminal_display import TerminalDisplay\n",
    "\n",
    "terminal_display = TerminalDisplay(display_name=\"TerminalDisplay\", display_id=0, width=64, height=64)\n",
    "terminal_display.load_image(image_path=\"example_img.png\")\n",
    "terminal_display.render()"
   ]
  },
  {
   "cell_type": "markdown",
   "metadata": {},
   "source": [
    "## MatplotlibDisplay"
   ]
  },
  {
   "cell_type": "code",
   "execution_count": 2,
   "metadata": {},
   "outputs": [
    {
     "data": {
      "image/png": "[encoded data removed]",
      "text/plain": [
       "<Figure size 640x480 with 1 Axes>"
      ]
     },
     "metadata": {},
     "output_type": "display_data"
    }
   ],
   "source": [
    "from pixel_kpi.displays.matplotlib_display import MatplotlibDisplay\n",
    "\n",
    "matplot_display = MatplotlibDisplay(display_name=\"MatplotlibDisplay\", display_id=0, width=64, height=64)\n",
    "matplot_display.load_image(image_path=\"example_img.png\")\n",
    "matplot_display.render()"
   ]
  },
  {
   "cell_type": "markdown",
   "metadata": {},
   "source": [
    "## PixooDisplay"
   ]
  },
  {
   "cell_type": "code",
   "execution_count": 3,
   "metadata": {},
   "outputs": [
    {
     "name": "stderr",
     "output_type": "stream",
     "text": [
      "2024-09-14 23:37:54.172 Python[12063:430666] WARNING: Secure coding is not enabled for restorable state! Enable secure coding by implementing NSApplicationDelegate.applicationSupportsSecureRestorableState: and returning YES.\n"
     ]
    }
   ],
   "source": [
    "from pixel_kpi.displays.pixoo_display import PixooDisplay\n",
    "\n",
    "pixoo_display = PixooDisplay(display_name=\"PixooDisplay\", display_id=0, width=64, height=64, ip_adress=\"192.167.178.1\", simulated=True)\n",
    "pixoo_display.load_image(image_path=\"example_img.png\")\n",
    "pixoo_display.render()"
   ]
  }
 ],
 "metadata": {
  "kernelspec": {
   "display_name": "pixel-kpi-weBb9JX3-py3.11",
   "language": "python",
   "name": "python3"
  },
  "language_info": {
   "codemirror_mode": {
    "name": "ipython",
    "version": 3
   },
   "file_extension": ".py",
   "mimetype": "text/x-python",
   "name": "python",
   "nbconvert_exporter": "python",
   "pygments_lexer": "ipython3",
   "version": "3.11.6"
  }
 },
 "nbformat": 4,
 "nbformat_minor": 2
}
