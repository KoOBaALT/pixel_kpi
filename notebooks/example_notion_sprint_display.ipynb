{
 "cells": [
  {
   "cell_type": "markdown",
   "metadata": {},
   "source": [
    "# Notion Sprint View\n",
    "\n",
    "This notebook shows how to use the notion connector and processor to get the data from the notion API and process it to display the data in a pixel art format with the help of the `pixel_kpi` library.\n",
    "\n",
    "**Note**: It assumes that it the sprints in notion have the properties `Sprint status` which can be `Current`. This is nessesary to get the current sprint data. Also it assumes that the sprints have the properties `completed_tasks_property`. If you have any problems with getting the data please raise an issue in the github repository."
   ]
  },
  {
   "cell_type": "code",
   "execution_count": 5,
   "metadata": {},
   "outputs": [],
   "source": [
    "#from pixel_kpi.displays.pixoo_display import PixooDisplay\n",
    "from pixel_kpi.displays.matplotlib_display import MatplotlibDisplay\n",
    "from pixel_kpi.views.notion_sprint_view import NotionSprintView\n",
    "from pixel_kpi.connectors.notion_connector import NotionConnector\n",
    "from pixel_kpi.processors.notion.sprint_processor import SprintProcessor\n",
    "import logging\n",
    "\n",
    "logging.basicConfig(level=logging.INFO)\n",
    "\n",
    "#display = PixooDisplay(display_name=\"PixooDisplay\", display_id=0, width=64, height=64, ip_adress=\"192.167.178.1\", simulated=True)\n",
    "display = MatplotlibDisplay(display_name=\"MatplotlibDisplay\", display_id=0, width=64, height=64)\n",
    "\n",
    "NOTION_API_KEY = \"YOUR_NOTION_API_KEY\"\n",
    "NOTION_DATABASE_ID = \"YOUR_NOTION_DATABASE_ID\"\n",
    "\n",
    "\n",
    "\n",
    "notion_connector = NotionConnector(api_key=NOTION_API_KEY, database_id=NOTION_DATABASE_ID)\n",
    "notion_sprint_processor = SprintProcessor()\n",
    "\n",
    "notion_sprint_view = NotionSprintView(display=display, connector=notion_connector, processor=notion_sprint_processor, refresh_rate=60*15, main_color=(80, 255, 255))"
   ]
  },
  {
   "cell_type": "code",
   "execution_count": 6,
   "metadata": {},
   "outputs": [
    {
     "data": {
      "image/png": "[encoded data removed]",
      "text/plain": [
       "<Figure size 500x500 with 1 Axes>"
      ]
     },
     "metadata": {},
     "output_type": "display_data"
    },
    {
     "ename": "KeyboardInterrupt",
     "evalue": "",
     "output_type": "error",
     "traceback": [
      "\u001b[0;31m---------------------------------------------------------------------------\u001b[0m",
      "\u001b[0;31mKeyboardInterrupt\u001b[0m                         Traceback (most recent call last)",
      "Cell \u001b[0;32mIn[6], line 1\u001b[0m\n\u001b[0;32m----> 1\u001b[0m \u001b[43mnotion_sprint_view\u001b[49m\u001b[38;5;241;43m.\u001b[39;49m\u001b[43mrun\u001b[49m\u001b[43m(\u001b[49m\u001b[43m)\u001b[49m\n",
      "File \u001b[0;32m~/Documents/Projects/pixel_kpi/pixel_kpi/pixel_kpi/views/base_view.py:55\u001b[0m, in \u001b[0;36mBaseView.run\u001b[0;34m(self)\u001b[0m\n\u001b[1;32m     53\u001b[0m \u001b[38;5;28;01mwhile\u001b[39;00m \u001b[38;5;28;01mTrue\u001b[39;00m:\n\u001b[1;32m     54\u001b[0m     \u001b[38;5;28mself\u001b[39m\u001b[38;5;241m.\u001b[39mrefresh()\n\u001b[0;32m---> 55\u001b[0m     \u001b[43mtime\u001b[49m\u001b[38;5;241;43m.\u001b[39;49m\u001b[43msleep\u001b[49m\u001b[43m(\u001b[49m\u001b[38;5;28;43mself\u001b[39;49m\u001b[38;5;241;43m.\u001b[39;49m\u001b[43mrefresh_rate\u001b[49m\u001b[43m)\u001b[49m\n",
      "\u001b[0;31mKeyboardInterrupt\u001b[0m: "
     ]
    }
   ],
   "source": [
    "notion_sprint_view.run()"
   ]
  }
 ],
 "metadata": {
  "kernelspec": {
   "display_name": "pixel-kpi-weBb9JX3-py3.11",
   "language": "python",
   "name": "python3"
  },
  "language_info": {
   "codemirror_mode": {
    "name": "ipython",
    "version": 3
   },
   "file_extension": ".py",
   "mimetype": "text/x-python",
   "name": "python",
   "nbconvert_exporter": "python",
   "pygments_lexer": "ipython3",
   "version": "3.11.6"
  }
 },
 "nbformat": 4,
 "nbformat_minor": 2
}
