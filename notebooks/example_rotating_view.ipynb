{
 "cells": [
  {
   "cell_type": "markdown",
   "metadata": {},
   "source": [
    "# Switching between Views\n",
    "\n",
    "We often want to switch between different views like showing the sprint progress and the github star statistics. This notebook shows how to switch between different views using the `pixel_kpi` package and its `RotatingView` function."
   ]
  },
  {
   "cell_type": "code",
   "execution_count": 1,
   "metadata": {},
   "outputs": [],
   "source": [
    "from pixel_kpi.displays.pixoo_display import PixooDisplay\n",
    "from pixel_kpi.displays.matplotlib_display import MatplotlibDisplay\n",
    "from pixel_kpi.views.notion_sprint_view import NotionSprintView\n",
    "from pixel_kpi.connectors.notion_connector import NotionConnector\n",
    "from pixel_kpi.processors.notion.sprint_processor import SprintProcessor\n",
    "\n",
    "from pixel_kpi.connectors.github_connector import GithubConnector\n",
    "from pixel_kpi.processors.github.star_processor import StarProcessor\n",
    "from pixel_kpi.views.github_stars_view import GithubStarsView\n",
    "\n",
    "from pixel_kpi.views.rotating_view import RotatingView\n",
    "import logging\n",
    "\n",
    "logging.basicConfig(level=logging.INFO)\n",
    "\n",
    "NOTION_API_KEY = \"YOUR_NOTION_API_KEY\"\n",
    "NOTION_DATABASE_ID = \"YOUR_NOTION_DATABASE_ID\"\n",
    "\n",
    "GITHUB_API_KEY = \"YOUR_GITHUB_API_KEY\"\n",
    "\n",
    "#display = PixooDisplay(display_name=\"PixooDisplay\", display_id=0, width=64, height=64, ip_adress=\"192.168.178.153\", simulated=True)\n",
    "display = MatplotlibDisplay(display_name=\"MatplotlibDisplay\", display_id=0, width=64, height=64)\n",
    "\n",
    "# Create Notion connector and processor\n",
    "notion_connector = NotionConnector(api_key=NOTION_API_KEY, database_id=NOTION_DATABASE_ID)\n",
    "notion_sprint_processor = SprintProcessor()\n",
    "\n",
    "# Create Github connector and processor\n",
    "github_connector = GithubConnector(api_key=GITHUB_API_KEY)\n",
    "star_processor = StarProcessor()\n",
    "\n",
    "# Create views\n",
    "notion_sprint_view = NotionSprintView(display=display, connector=notion_connector, processor=notion_sprint_processor, refresh_rate=60*15, main_color=(80, 255, 255))\n",
    "github_stars_view = GithubStarsView(display=display, connector=github_connector, processor=star_processor, refresh_rate=60*15, main_color=(80, 255, 255), repository=\"pi_optimal/pi_optimal\")\n",
    "\n",
    "# Add them to rotating view\n",
    "rotating_view = RotatingView(display=display, views=[github_stars_view, notion_sprint_view], switch_interval=10, refresh_rate=60*15)"
   ]
  },
  {
   "cell_type": "code",
   "execution_count": 2,
   "metadata": {},
   "outputs": [
    {
     "data": {
      "image/png": "[encoded data removed]",
      "text/plain": [
       "<Figure size 500x500 with 1 Axes>"
      ]
     },
     "metadata": {},
     "output_type": "display_data"
    },
    {
     "name": "stderr",
     "output_type": "stream",
     "text": [
      "INFO:pixel_kpi.displays.base_display:Rendered image using Matplotlib.\n"
     ]
    },
    {
     "ename": "KeyboardInterrupt",
     "evalue": "",
     "output_type": "error",
     "traceback": [
      "\u001b[0;31m---------------------------------------------------------------------------\u001b[0m",
      "\u001b[0;31mKeyboardInterrupt\u001b[0m                         Traceback (most recent call last)",
      "Cell \u001b[0;32mIn[2], line 1\u001b[0m\n\u001b[0;32m----> 1\u001b[0m \u001b[43mrotating_view\u001b[49m\u001b[38;5;241;43m.\u001b[39;49m\u001b[43mrun\u001b[49m\u001b[43m(\u001b[49m\u001b[43m)\u001b[49m\n",
      "File \u001b[0;32m~/Documents/Projects/pixel_kpi/pixel_kpi/pixel_kpi/views/rotating_view.py:41\u001b[0m, in \u001b[0;36mRotatingView.run\u001b[0;34m(self)\u001b[0m\n\u001b[1;32m     39\u001b[0m current_view \u001b[38;5;241m=\u001b[39m \u001b[38;5;28mself\u001b[39m\u001b[38;5;241m.\u001b[39mviews[\u001b[38;5;28mself\u001b[39m\u001b[38;5;241m.\u001b[39mcurrent_view_index]\n\u001b[1;32m     40\u001b[0m current_view\u001b[38;5;241m.\u001b[39mrefresh()  \u001b[38;5;66;03m# Refreshes the current view\u001b[39;00m\n\u001b[0;32m---> 41\u001b[0m \u001b[43mtime\u001b[49m\u001b[38;5;241;43m.\u001b[39;49m\u001b[43msleep\u001b[49m\u001b[43m(\u001b[49m\u001b[38;5;28;43mself\u001b[39;49m\u001b[38;5;241;43m.\u001b[39;49m\u001b[43mswitch_interval\u001b[49m\u001b[43m)\u001b[49m  \u001b[38;5;66;03m# Waits for the specified interval\u001b[39;00m\n\u001b[1;32m     42\u001b[0m \u001b[38;5;28mself\u001b[39m\u001b[38;5;241m.\u001b[39mcurrent_view_index \u001b[38;5;241m=\u001b[39m (\u001b[38;5;28mself\u001b[39m\u001b[38;5;241m.\u001b[39mcurrent_view_index \u001b[38;5;241m+\u001b[39m \u001b[38;5;241m1\u001b[39m) \u001b[38;5;241m%\u001b[39m \u001b[38;5;28mlen\u001b[39m(\u001b[38;5;28mself\u001b[39m\u001b[38;5;241m.\u001b[39mviews)\n",
      "\u001b[0;31mKeyboardInterrupt\u001b[0m: "
     ]
    }
   ],
   "source": [
    "rotating_view.run()"
   ]
  },
  {
   "cell_type": "code",
   "execution_count": null,
   "metadata": {},
   "outputs": [],
   "source": []
  },
  {
   "cell_type": "code",
   "execution_count": null,
   "metadata": {},
   "outputs": [],
   "source": []
  }
 ],
 "metadata": {
  "kernelspec": {
   "display_name": "pixel-kpi-weBb9JX3-py3.11",
   "language": "python",
   "name": "python3"
  },
  "language_info": {
   "codemirror_mode": {
    "name": "ipython",
    "version": 3
   },
   "file_extension": ".py",
   "mimetype": "text/x-python",
   "name": "python",
   "nbconvert_exporter": "python",
   "pygments_lexer": "ipython3",
   "version": "3.11.6"
  }
 },
 "nbformat": 4,
 "nbformat_minor": 2
}
