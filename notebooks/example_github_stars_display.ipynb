{
 "cells": [
  {
   "cell_type": "code",
   "execution_count": 3,
   "metadata": {},
   "outputs": [],
   "source": [
    "from pixel_kpi.connectors.github_connector import GithubConnector\n",
    "from pixel_kpi.processors.github.star_processor import StarProcessor\n",
    "from pixel_kpi.views.github_stars_view import GithubStarsView\n",
    "from pixel_kpi.displays.pixoo_display import PixooDisplay\n",
    "from pixel_kpi.displays.matplotlib_display import MatplotlibDisplay\n",
    "import logging\n",
    "\n",
    "logging.basicConfig(level=logging.INFO)\n",
    "\n",
    "GITHUB_API_KEY = \"YOUR_GITHUB_API_KEY\"\n",
    "\n",
    "#display = PixooDisplay(display_name=\"PixooDisplay\", display_id=0, width=64, height=64, ip_adress=\"192.168.178.153\", simulated=True)\n",
    "display = MatplotlibDisplay(display_name=\"MatplotlibDisplay\", display_id=0, width=64, height=64)\n",
    "\n",
    "github_connector = GithubConnector(api_key=GITHUB_API_KEY)\n",
    "star_processor = StarProcessor()\n",
    "\n",
    "github_stars_view = GithubStarsView(display=display, connector=github_connector, processor=star_processor, refresh_rate=60*15, main_color=(80, 255, 255), repository=\"pi_optimal/pi_optimal\")"
   ]
  },
  {
   "cell_type": "markdown",
   "metadata": {},
   "source": [
    "# Github Star Statistics\n",
    "\n",
    "Here we show how to create a beautiful pixel art plot of the number of stars of a Github repository over time. We will use the `pixel_kpi` Python package to get the data and vizualize it."
   ]
  },
  {
   "cell_type": "code",
   "execution_count": 4,
   "metadata": {},
   "outputs": [
    {
     "data": {
      "image/png": "[encoded data removed]",
      "text/plain": [
       "<Figure size 500x500 with 1 Axes>"
      ]
     },
     "metadata": {},
     "output_type": "display_data"
    },
    {
     "name": "stderr",
     "output_type": "stream",
     "text": [
      "INFO:pixel_kpi.displays.base_display:Rendered image using Matplotlib.\n"
     ]
    },
    {
     "ename": "KeyboardInterrupt",
     "evalue": "",
     "output_type": "error",
     "traceback": [
      "\u001b[0;31m---------------------------------------------------------------------------\u001b[0m",
      "\u001b[0;31mKeyboardInterrupt\u001b[0m                         Traceback (most recent call last)",
      "Cell \u001b[0;32mIn[4], line 1\u001b[0m\n\u001b[0;32m----> 1\u001b[0m \u001b[43mgithub_stars_view\u001b[49m\u001b[38;5;241;43m.\u001b[39;49m\u001b[43mrun\u001b[49m\u001b[43m(\u001b[49m\u001b[43m)\u001b[49m\n",
      "File \u001b[0;32m~/Documents/Projects/pixel_kpi/pixel_kpi/pixel_kpi/views/base_view.py:55\u001b[0m, in \u001b[0;36mBaseView.run\u001b[0;34m(self)\u001b[0m\n\u001b[1;32m     53\u001b[0m \u001b[38;5;28;01mwhile\u001b[39;00m \u001b[38;5;28;01mTrue\u001b[39;00m:\n\u001b[1;32m     54\u001b[0m     \u001b[38;5;28mself\u001b[39m\u001b[38;5;241m.\u001b[39mrefresh()\n\u001b[0;32m---> 55\u001b[0m     \u001b[43mtime\u001b[49m\u001b[38;5;241;43m.\u001b[39;49m\u001b[43msleep\u001b[49m\u001b[43m(\u001b[49m\u001b[38;5;28;43mself\u001b[39;49m\u001b[38;5;241;43m.\u001b[39;49m\u001b[43mrefresh_rate\u001b[49m\u001b[43m)\u001b[49m\n",
      "\u001b[0;31mKeyboardInterrupt\u001b[0m: "
     ]
    }
   ],
   "source": [
    "github_stars_view.run()"
   ]
  },
  {
   "cell_type": "code",
   "execution_count": null,
   "metadata": {},
   "outputs": [],
   "source": []
  }
 ],
 "metadata": {
  "kernelspec": {
   "display_name": "pixel-kpi-weBb9JX3-py3.11",
   "language": "python",
   "name": "python3"
  },
  "language_info": {
   "codemirror_mode": {
    "name": "ipython",
    "version": 3
   },
   "file_extension": ".py",
   "mimetype": "text/x-python",
   "name": "python",
   "nbconvert_exporter": "python",
   "pygments_lexer": "ipython3",
   "version": "3.11.6"
  }
 },
 "nbformat": 4,
 "nbformat_minor": 2
}
